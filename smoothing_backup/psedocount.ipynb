{
 "cells": [
  {
   "cell_type": "code",
   "execution_count": 49,
   "id": "ef7ce887-3ad9-47d9-b1c3-e5f6cc0ac335",
   "metadata": {
    "execution": {
     "iopub.execute_input": "2024-06-24T12:56:43.015076Z",
     "iopub.status.busy": "2024-06-24T12:56:43.014635Z",
     "iopub.status.idle": "2024-06-24T13:11:34.660911Z",
     "shell.execute_reply": "2024-06-24T13:11:34.660308Z",
     "shell.execute_reply.started": "2024-06-24T12:56:43.015055Z"
    }
   },
   "outputs": [],
   "source": [
    "import pandas as pd\n",
    "import numpy as np\n",
    "import glob\n",
    "import os\n",
    "import logging\n",
    "import seaborn as sns\n",
    "import matplotlib.pyplot as plt\n",
    "from scipy.spatial.distance import jensenshannon\n",
    "from scipy.stats import entropy, ks_2samp, f_oneway\n",
    "from statsmodels.stats.multicomp import pairwise_tukeyhsd\n",
    "from scipy.special import kl_div\n",
    "\n",
    "logging.basicConfig(\n",
    "    level=logging.INFO,\n",
    "    format='%(asctime)s - %(levelname)s - %(message)s',\n",
    "    filename='methylation_analysis_3.log', \n",
    "    filemode='w'                        \n",
    ")\n",
    "\n",
    "def calculate_divergences_and_ks(df, smoothing=1e-5):\n",
    "    \"\"\"Calculates normalized divergences (JSD, KL, GJS, SGJS) and KS test for methylation data.\n",
    "\n",
    "    Args:\n",
    "        df (pandas.DataFrame): DataFrame with 'methylated' and 'unmethylated' columns.\n",
    "        smoothing (float, optional): Smoothing factor to add to counts. Defaults to 1e-10.\n",
    "\n",
    "    Returns:\n",
    "        tuple: Normalized divergences (JSD, KL, GJS, SGJS) and KS test statistic and p-value.\n",
    "    \"\"\"\n",
    "\n",
    "    # Filter out rows with zero coverage\n",
    "    #df = df[df['coverage'] > 0].copy()\n",
    "\n",
    "    # Drop rows where both methylated and unmethylated are zero \n",
    "    #df = df[(df['methylated'] != 0) | (df['unmethylated'] != 0)].copy()\n",
    "\n",
    "    #if len(df) == 0:\n",
    "    #    return None, None, None, None, None, None\n",
    "    \n",
    "    #df[\"methylated\"] += smoothing\n",
    "    #df[\"unmethylated\"] += smoothing\n",
    "    \n",
    "    # Calculate probabilities\n",
    "    total = df[\"methylated\"] + df[\"unmethylated\"]\n",
    "    p = df[\"methylated\"] / total + smoothing\n",
    "    q = df[\"unmethylated\"] / total + smoothing\n",
    "    \n",
    "    # Divergence calculations (with normalizations)\n",
    "    normalized_js_divergence = float(jensenshannon(p, q, base=2))  # JSD\n",
    "\n",
    "    normalized_kl_divergence = float(entropy(p, q, base=2) - entropy(p, base=2))  # KLD\n",
    "\n",
    "    # Geometric Jensen-Shannon Divergence\n",
    "    normalized_gjs_divergence = float(np.sqrt(\n",
    "        0.5 * (np.sqrt(entropy(p, q, base=2)) + np.sqrt(entropy(q, p, base=2)))\n",
    "    ) / np.sqrt(np.log(2)))\n",
    "    \n",
    "    # Symmetric Geometric Jensen-Shannon Divergence\n",
    "    m = (p + q) / 2\n",
    "    normalized_sgjs_divergence = float( 0.5 * (\n",
    "        np.sqrt(jensenshannon(p, m, base=2)) + np.sqrt(jensenshannon(q, m, base=2))\n",
    "    ) / np.sqrt(np.log(2)))\n",
    "\n",
    "    # Kolmogorov-Smirnov Test\n",
    "    ks_statistic, ks_pvalue = ks_2samp(df[\"methylated\"], df[\"unmethylated\"])  # KST\n",
    "\n",
    "    return normalized_js_divergence, normalized_kl_divergence, normalized_gjs_divergence, normalized_sgjs_divergence, ks_statistic, ks_pvalue\n",
    "\n",
    "def read_bismark_file(filename):\n",
    "    \"\"\"Reads Bismark methylation data from a file.\"\"\"\n",
    "    column_names = [\"chr\", \"start\", \"end\", \"coverage\", \"methylated\", \"unmethylated\"]\n",
    "    df = pd.read_csv(filename, sep='\\t', header=None, names=column_names, compression='gzip')\n",
    "\n",
    "    # Convert columns to correct data types\n",
    "    df['start'] = pd.to_numeric(df['start'])\n",
    "    df['end'] = pd.to_numeric(df['end'])\n",
    "    df['coverage'] = pd.to_numeric(df['coverage'])\n",
    "    df['methylated'] = pd.to_numeric(df['methylated'])\n",
    "    df['unmethylated'] = pd.to_numeric(df['unmethylated'])\n",
    "\n",
    "    return df\n",
    "\n",
    "def clean_data(results_df):\n",
    "    \"\"\"Cleans the results DataFrame by removing file extensions from sample names.\"\"\"\n",
    "    results_df['Sample'] = results_df['Sample'].astype(str).str.replace('.bedgraph.gz', '', regex=False)\n",
    "    return results_df\n",
    "\n",
    "\n",
    "# Data processing pipeline\n",
    "data_directory = \"/home/eharpu/methylation_analysis/samples_testing\"\n",
    "results = []\n",
    "\n",
    "# Get all sample subdirectories\n",
    "sample_directories = [d for d in os.listdir(data_directory) if os.path.isdir(os.path.join(data_directory, d))]\n",
    "\n",
    "# Iterate through files\n",
    "for sample_dir in sample_directories:\n",
    "    sample_path = os.path.join(data_directory, sample_dir)\n",
    "\n",
    "    logging.info(f\"Processing sample directory: {sample_path}\")\n",
    "\n",
    "    # Iterate through files in each sample directory\n",
    "    for file_path in glob.glob(os.path.join(sample_path, \"*_chr_*.cov.gz\")):\n",
    "        try:\n",
    "            filename = os.path.basename(file_path)\n",
    "            parts = filename.split(\"_\")\n",
    "\n",
    "            context_type = parts[0]\n",
    "            sample_name = parts[1] + \"_\" + parts[2].split(\".\")[0] \n",
    "            chromosome = parts[-1].split(\".\")[0]\n",
    "\n",
    "            #logging.info(f\"Processing file: {filename}\")\n",
    "\n",
    "\n",
    "\n",
    "            df = read_bismark_file(file_path)\n",
    "            divergences = calculate_divergences_and_ks(df)\n",
    "    \n",
    "            results.append(\n",
    "                {\n",
    "                    \"Sample\": sample_name,\n",
    "                    \"Chromosome\": chromosome,\n",
    "                    \"Context\": context_type,\n",
    "                    \"JS Divergence\": divergences[0],  \n",
    "                    \"KL Divergence\": divergences[1],\n",
    "                    \"GJS Divergence\": divergences[2],\n",
    "                    \"SGJS Divergence\": divergences[3],\n",
    "                    \"KS Statistic\": divergences[4],\n",
    "                    \"KS P-value\": divergences[5]\n",
    "                }\n",
    "            )\n",
    "    \n",
    "        except Exception as e:\n",
    "            logging.error(f\"Error processing file {filename}: {e}\")\n",
    "\n",
    "# Create a DataFrame from results\n",
    "results_df = pd.DataFrame(results)\n",
    "\n",
    "# Clean data\n",
    "#results_df = clean_data(results_df)\n",
    "\n",
    "# Save the results to a CSV file\n",
    "#results_df.to_csv(\"/shares/grossniklaus.botinst.uzh/eharputluoglu/calculation_output/methylation_analysis_results_Smooting_1e-5.csv\", index=False)"
   ]
  },
  {
   "cell_type": "code",
   "execution_count": 50,
   "id": "0164d9f3-6bac-4316-93dd-33a0fc58efa1",
   "metadata": {
    "execution": {
     "iopub.execute_input": "2024-06-24T13:11:34.679564Z",
     "iopub.status.busy": "2024-06-24T13:11:34.679421Z",
     "iopub.status.idle": "2024-06-24T13:11:34.688107Z",
     "shell.execute_reply": "2024-06-24T13:11:34.687698Z",
     "shell.execute_reply.started": "2024-06-24T13:11:34.679551Z"
    }
   },
   "outputs": [],
   "source": [
    "results_df.to_csv(\"include_all_zeros_percent_smooth.csv\", index=False)"
   ]
  },
  {
   "cell_type": "code",
   "execution_count": 41,
   "id": "f5ca4770-2b01-4e7d-a74f-2fb81d11ed66",
   "metadata": {
    "execution": {
     "iopub.execute_input": "2024-06-24T12:33:36.410278Z",
     "iopub.status.busy": "2024-06-24T12:33:36.410048Z",
     "iopub.status.idle": "2024-06-24T12:33:36.416281Z",
     "shell.execute_reply": "2024-06-24T12:33:36.415925Z",
     "shell.execute_reply.started": "2024-06-24T12:33:36.410262Z"
    }
   },
   "outputs": [
    {
     "name": "stdout",
     "output_type": "stream",
     "text": [
      "1.4158209991620065\n",
      "1.3583904679065906\n",
      "1.3583904679065906\n"
     ]
    }
   ],
   "source": [
    "import numpy as np\n",
    "from scipy.stats import entropy\n",
    "\n",
    "#normalized_kl_divergence = float(entropy(p, q, base=2) - entropy(p, base=2))  \n",
    "\n",
    "pk = np.array([0.75, 0.2, 0.5, 0]) \n",
    "H = entropy(pk, base=2) \n",
    "print(H) \n",
    "\n",
    "\n",
    "qk = np.array([0.25, 0.8, 0.5, 1]) \n",
    "D = entropy(pk, qk, base=2) \n",
    "print(D)\n",
    "\n",
    "CE = entropy(pk, qk, base=2) \n",
    "#CE = entropy(pk, base=2) + entropy(pk, qk, base=2) \n",
    "print(CE)\n"
   ]
  },
  {
   "cell_type": "code",
   "execution_count": 42,
   "id": "83b6d8f4-0438-46aa-9d9e-eec1bb854122",
   "metadata": {
    "execution": {
     "iopub.execute_input": "2024-06-24T12:33:37.823230Z",
     "iopub.status.busy": "2024-06-24T12:33:37.822524Z",
     "iopub.status.idle": "2024-06-24T12:33:37.826070Z",
     "shell.execute_reply": "2024-06-24T12:33:37.825750Z",
     "shell.execute_reply.started": "2024-06-24T12:33:37.823214Z"
    }
   },
   "outputs": [
    {
     "data": {
      "text/plain": [
       "0.5910615021454244"
      ]
     },
     "execution_count": 42,
     "metadata": {},
     "output_type": "execute_result"
    }
   ],
   "source": [
    "from scipy.spatial.distance import jensenshannon\n",
    "jensenshannon(pk, qk, base=2)"
   ]
  },
  {
   "cell_type": "code",
   "execution_count": 43,
   "id": "daf117b6-b3a5-4371-994e-9919ccdb8506",
   "metadata": {
    "execution": {
     "iopub.execute_input": "2024-06-24T12:33:38.256545Z",
     "iopub.status.busy": "2024-06-24T12:33:38.256007Z",
     "iopub.status.idle": "2024-06-24T12:33:38.260975Z",
     "shell.execute_reply": "2024-06-24T12:33:38.260592Z",
     "shell.execute_reply.started": "2024-06-24T12:33:38.256524Z"
    }
   },
   "outputs": [
    {
     "data": {
      "text/plain": [
       "-0.05743053125541597"
      ]
     },
     "execution_count": 43,
     "metadata": {},
     "output_type": "execute_result"
    }
   ],
   "source": [
    "entropy(pk, qk, base=2) - entropy(pk, base=2)"
   ]
  },
  {
   "cell_type": "code",
   "execution_count": 45,
   "id": "b104626a-e2e4-4af6-b4ba-9d674547c687",
   "metadata": {
    "execution": {
     "iopub.execute_input": "2024-06-24T12:35:20.214331Z",
     "iopub.status.busy": "2024-06-24T12:35:20.213676Z",
     "iopub.status.idle": "2024-06-24T12:35:20.218750Z",
     "shell.execute_reply": "2024-06-24T12:35:20.218194Z",
     "shell.execute_reply.started": "2024-06-24T12:35:20.214309Z"
    }
   },
   "outputs": [
    {
     "data": {
      "text/plain": [
       "0.0"
      ]
     },
     "execution_count": 45,
     "metadata": {},
     "output_type": "execute_result"
    }
   ],
   "source": [
    "entropy(1, base=2) "
   ]
  },
  {
   "cell_type": "code",
   "execution_count": null,
   "id": "f5f01586-7375-4a7c-9651-08105a122854",
   "metadata": {},
   "outputs": [],
   "source": []
  }
 ],
 "metadata": {
  "kernelspec": {
   "display_name": "environment_shannon",
   "language": "python",
   "name": "environment_shannon"
  },
  "language_info": {
   "codemirror_mode": {
    "name": "ipython",
    "version": 3
   },
   "file_extension": ".py",
   "mimetype": "text/x-python",
   "name": "python",
   "nbconvert_exporter": "python",
   "pygments_lexer": "ipython3",
   "version": "3.12.2"
  },
  "widgets": {
   "application/vnd.jupyter.widget-state+json": {
    "state": {},
    "version_major": 2,
    "version_minor": 0
   }
  }
 },
 "nbformat": 4,
 "nbformat_minor": 5
}
